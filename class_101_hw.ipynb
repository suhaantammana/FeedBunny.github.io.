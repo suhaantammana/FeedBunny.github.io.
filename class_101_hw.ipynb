{
  "nbformat": 4,
  "nbformat_minor": 0,
  "metadata": {
    "colab": {
      "provenance": [],
      "authorship_tag": "ABX9TyOZn3otB40HbzHh//iR9jrw",
      "include_colab_link": true
    },
    "kernelspec": {
      "name": "python3",
      "display_name": "Python 3"
    },
    "language_info": {
      "name": "python"
    }
  },
  "cells": [
    {
      "cell_type": "markdown",
      "metadata": {
        "id": "view-in-github",
        "colab_type": "text"
      },
      "source": [
        "<a href=\"https://colab.research.google.com/github/suhaantammana/FeedBunny.github.io./blob/main/class_101_hw.ipynb\" target=\"_parent\"><img src=\"https://colab.research.google.com/assets/colab-badge.svg\" alt=\"Open In Colab\"/></a>"
      ]
    },
    {
      "cell_type": "code",
      "execution_count": null,
      "metadata": {
        "id": "PByYWV_oabmj"
      },
      "outputs": [],
      "source": [
        "import random\n",
        "roll_dice = input(\"Write start to dice roll: \")\n",
        "\n",
        "if roll_dice == \"start\":\n",
        "   posiblle_results = [1, 2, 3, 4, 5, 6]\n",
        "   result = random.choice(posiblle_results)\n",
        "   print(\"Result of dice rolling is : \" + str(result))\n"
      ]
    }
  ]
}