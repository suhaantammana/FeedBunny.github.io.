{
  "nbformat": 4,
  "nbformat_minor": 0,
  "metadata": {
    "colab": {
      "provenance": [],
      "authorship_tag": "ABX9TyNQ+XLXugoRwsZmRGhZIw2e",
      "include_colab_link": true
    },
    "kernelspec": {
      "name": "python3",
      "display_name": "Python 3"
    },
    "language_info": {
      "name": "python"
    }
  },
  "cells": [
    {
      "cell_type": "markdown",
      "metadata": {
        "id": "view-in-github",
        "colab_type": "text"
      },
      "source": [
        "<a href=\"https://colab.research.google.com/github/suhaantammana/FeedBunny.github.io./blob/main/Untitled0.ipynb\" target=\"_parent\"><img src=\"https://colab.research.google.com/assets/colab-badge.svg\" alt=\"Open In Colab\"/></a>"
      ]
    },
    {
      "cell_type": "code",
      "execution_count": null,
      "metadata": {
        "id": "ufhEa37rWw_f"
      },
      "outputs": [],
      "source": [
        "print(\"J*******\")\n",
        "print(\"*A******\")\n",
        "print(\"**Y*****\")\n",
        "print(\"***S****\")\n",
        "print(\"****H***\")\n",
        "print(\"*****R**\")\n",
        "print(\"******E*\")\n",
        "print(\"*******E\")"
      ]
    }
  ]
}