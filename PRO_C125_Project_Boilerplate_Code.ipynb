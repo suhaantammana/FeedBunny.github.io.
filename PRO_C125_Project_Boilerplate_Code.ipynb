{
  "nbformat": 4,
  "nbformat_minor": 0,
  "metadata": {
    "colab": {
      "provenance": [],
      "include_colab_link": true
    },
    "kernelspec": {
      "name": "python3",
      "display_name": "Python 3"
    },
    "language_info": {
      "name": "python"
    }
  },
  "cells": [
    {
      "cell_type": "markdown",
      "metadata": {
        "id": "view-in-github",
        "colab_type": "text"
      },
      "source": [
        "<a href=\"https://colab.research.google.com/github/suhaantammana/FeedBunny.github.io./blob/main/PRO_C125_Project_Boilerplate_Code.ipynb\" target=\"_parent\"><img src=\"https://colab.research.google.com/assets/colab-badge.svg\" alt=\"Open In Colab\"/></a>"
      ]
    },
    {
      "cell_type": "markdown",
      "source": [
        "**Archery-Target** is a game in which the players shoot sharp-pointed arrows at a round target having 10 rings.\n",
        "\n",
        "<img src=\"https://s3-whjr-curriculum-uploads.whjr.online/4de9132a-c71d-42ce-9099-3293e8805fd9.jpg\">"
      ],
      "metadata": {
        "id": "nUWO5QkC_g-4"
      }
    },
    {
      "cell_type": "markdown",
      "source": [
        "## RL Problem to Solve\n",
        "Hit the center of the target with maximum reward"
      ],
      "metadata": {
        "id": "5QtHLAqv3wP3"
      }
    },
    {
      "cell_type": "markdown",
      "source": [
        "<img src=\"https://s3-whjr-curriculum-uploads.whjr.online/40656a8c-14e2-4dd7-9f9e-4c17669b9182.png\" width=300>\n",
        "\n",
        "\n",
        "Number of **State**: ?\n",
        "\n",
        "Number of **Actions**: ?\n",
        "\n"
      ],
      "metadata": {
        "id": "Osb6FQ74YZtE"
      }
    },
    {
      "cell_type": "code",
      "source": [
        "#import libraries\n",
        "import numpy as np\n",
        "import random"
      ],
      "metadata": {
        "id": "miKQCNS1jtW2"
      },
      "execution_count": 1,
      "outputs": []
    },
    {
      "cell_type": "markdown",
      "source": [
        "## Reward Matrix\n",
        "Reward Matrix represents states as rows and actions as columns with respective awards values assigned for a given state and action pair."
      ],
      "metadata": {
        "id": "Ujmi3BO54LfJ"
      }
    },
    {
      "cell_type": "code",
      "source": [
        "#Define reward matrix\n",
        "rewards=np.array([10,9,8,7,6,5,4,3,2,1])"
      ],
      "metadata": {
        "id": "TM8C0P1_j0h8"
      },
      "execution_count": 2,
      "outputs": []
    },
    {
      "cell_type": "markdown",
      "source": [
        "## Take Action Randomly"
      ],
      "metadata": {
        "id": "Af-CAmdfkDQY"
      }
    },
    {
      "cell_type": "code",
      "source": [
        "#Define shoot()\n",
        "def shoot():\n",
        "  return np.random.randint(0,10)"
      ],
      "metadata": {
        "id": "MotipYImkFmN"
      },
      "execution_count": 3,
      "outputs": []
    },
    {
      "cell_type": "markdown",
      "source": [
        "##Q-matrix\n",
        "\n",
        "**Q-learning** is a reinforcement learning algorithm. Given the current state, it helps to find the best action to be taken by the agent.\n",
        "\n",
        "**Q-matrix** represents reward received after a taking particular action in the current state. Initially, all the elements of the Q-matrix are zeroes.\n"
      ],
      "metadata": {
        "id": "JXKyVT28hHoH"
      }
    },
    {
      "cell_type": "code",
      "source": [
        "#Create Q-matrix\n",
        "import numpy as np\n",
        "q_matrix=np.zeros([6,6])\n",
        "print(q_matrix)"
      ],
      "metadata": {
        "id": "3ks5cRmkkSrH",
        "outputId": "a0cd0443-d74c-4b52-b253-4e3ea9dc2859",
        "colab": {
          "base_uri": "https://localhost:8080/"
        }
      },
      "execution_count": 4,
      "outputs": [
        {
          "output_type": "stream",
          "name": "stdout",
          "text": [
            "[[0. 0. 0. 0. 0. 0.]\n",
            " [0. 0. 0. 0. 0. 0.]\n",
            " [0. 0. 0. 0. 0. 0.]\n",
            " [0. 0. 0. 0. 0. 0.]\n",
            " [0. 0. 0. 0. 0. 0.]\n",
            " [0. 0. 0. 0. 0. 0.]]\n"
          ]
        }
      ]
    },
    {
      "cell_type": "markdown",
      "source": [
        "##Take Action"
      ],
      "metadata": {
        "id": "dZWfKn6wkw6f"
      }
    },
    {
      "cell_type": "code",
      "source": [
        "#Define take_action\n",
        "def take_action(reward_matrix):\n",
        "\n",
        "     #Call the shoot() function to get the action\n",
        "     ring_index=shoot()\n",
        "     #Print the action\n",
        "     print(\"shoot at\",ring_index)\n",
        "     #Get the corresponding reward using Reward matrix\n",
        "     reward=reward_matrix[ring_index]\n",
        "     #Print reward\n",
        "     print(\"reward for the shoot\",reward)\n",
        "     action=ring_index\n",
        "     return action, reward\n",
        "\n"
      ],
      "metadata": {
        "id": "BuLjlxo4kIhU"
      },
      "execution_count": 5,
      "outputs": []
    },
    {
      "cell_type": "code",
      "source": [
        "#Call take_action function\n",
        "action_reward=take_action(rewards)\n"
      ],
      "metadata": {
        "id": "O5xbk5RtwoCb",
        "outputId": "3ef3b9db-b400-4189-f64d-91620a356ffd",
        "colab": {
          "base_uri": "https://localhost:8080/"
        }
      },
      "execution_count": 6,
      "outputs": [
        {
          "output_type": "stream",
          "name": "stdout",
          "text": [
            "shoot at 8\n",
            "reward for the shoot 2\n"
          ]
        }
      ]
    }
  ]
}