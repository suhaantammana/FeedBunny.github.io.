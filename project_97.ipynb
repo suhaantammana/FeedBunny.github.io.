{
  "nbformat": 4,
  "nbformat_minor": 0,
  "metadata": {
    "colab": {
      "provenance": [],
      "authorship_tag": "ABX9TyNT9HryR2JI3hUO9CKZdFcA",
      "include_colab_link": true
    },
    "kernelspec": {
      "name": "python3",
      "display_name": "Python 3"
    },
    "language_info": {
      "name": "python"
    }
  },
  "cells": [
    {
      "cell_type": "markdown",
      "metadata": {
        "id": "view-in-github",
        "colab_type": "text"
      },
      "source": [
        "<a href=\"https://colab.research.google.com/github/suhaantammana/FeedBunny.github.io./blob/main/project_97.ipynb\" target=\"_parent\"><img src=\"https://colab.research.google.com/assets/colab-badge.svg\" alt=\"Open In Colab\"/></a>"
      ]
    },
    {
      "cell_type": "code",
      "source": [
        "cm=int(input(\"Enter the height in centimeters:\"))\n",
        "inches=0.394*cm\n",
        "feet=0.0328*cm \n",
        "print(\"the legnth in inches\",round(inches,2))\n",
        "print(\"the legnth in feet\",round(feet,2))"
      ],
      "metadata": {
        "id": "iGDfULr6hjkJ"
      },
      "execution_count": null,
      "outputs": []
    },
    {
      "cell_type": "code",
      "source": [
        "year=int(input(\"Enter the year:\"))\n",
        "if(year%4==0 and year%100!=0 or year%400==0):\n",
        "  print(\"it's a leap year\")\n",
        "else:\n",
        "  print(\"it's not a leap year\")"
      ],
      "metadata": {
        "id": "4PkN4HXQYMC_"
      },
      "execution_count": null,
      "outputs": []
    }
  ]
}