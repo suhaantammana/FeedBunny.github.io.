{
  "nbformat": 4,
  "nbformat_minor": 0,
  "metadata": {
    "colab": {
      "provenance": [],
      "authorship_tag": "ABX9TyM67cATer2NINicv+go7TYH",
      "include_colab_link": true
    },
    "kernelspec": {
      "name": "python3",
      "display_name": "Python 3"
    },
    "language_info": {
      "name": "python"
    }
  },
  "cells": [
    {
      "cell_type": "markdown",
      "metadata": {
        "id": "view-in-github",
        "colab_type": "text"
      },
      "source": [
        "<a href=\"https://colab.research.google.com/github/suhaantammana/FeedBunny.github.io./blob/main/c100_hw.ipynb\" target=\"_parent\"><img src=\"https://colab.research.google.com/assets/colab-badge.svg\" alt=\"Open In Colab\"/></a>"
      ]
    },
    {
      "cell_type": "code",
      "execution_count": null,
      "metadata": {
        "id": "6bPUtCJCDWz9"
      },
      "outputs": [],
      "source": [
        "class MovieReview:\n",
        "  def _int_(self,movie,story,actors,music):\n",
        "    #Movie name\n",
        "    self.movie_name = movie\n",
        "\n",
        "    #Ratings \n",
        "    self.story_rating = story\n",
        "    self.actor_rating = actors\n",
        "    self.music_rating = music \n",
        "\n",
        "#Average ratings\n",
        "self.avg = int((self.story_rating + self.actor_rating + self.music_rating)/3) \n",
        "\n",
        "#Move info \n",
        "self.myrating = {\n",
        "    \"Movie Name\":self.movie_name, \n",
        "    \"Story Rating\":self.story_rating,\n",
        "    \"Actor Rating\":self.actor_rating,\n",
        "    \"Music Rating\":self.music_rating,\n",
        "    \"Avg Rating\":self.avg\n",
        "} \n",
        "review1 = MovieReview(\"melodical noise\",4,3,5)\n",
        "review2 = MovieReview(\"beutiful music\",2,5,4)\n",
        "review2 = MovieReview(\"nice acting\",4,5,5)\n",
        "  \n",
        "def avg_star_ratings(self,movie_list):\n",
        "  for movie in movie_list:\n",
        "    if(movie[\"Avg rating\"] == 1):\n",
        "      print(\"Thanks for the response, you rated the movie with a *\")\n",
        "      print(movie) \n",
        "\n",
        "review2 = MovieReview(\"beutiful music\",2,5,4)\n",
        "review2.add_movie_ratings(moviereviews)\n",
        "review2.avg_star_ratings(moviereviews)"
      ]
    }
  ]
}